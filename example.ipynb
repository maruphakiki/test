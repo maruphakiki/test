{
 "cells": [
  {
   "cell_type": "code",
   "execution_count": 1,
   "id": "943fdf86-71f7-43b8-9d66-8d40a26eb2b9",
   "metadata": {},
   "outputs": [
    {
     "name": "stdout",
     "output_type": "stream",
     "text": [
      "Hello Word\n"
     ]
    }
   ],
   "source": [
    "print (\"Hello Word\")"
   ]
  },
  {
   "cell_type": "code",
   "execution_count": null,
   "id": "28cdd578-2ff8-4fe2-86de-395f23823a54",
   "metadata": {},
   "outputs": [],
   "source": []
  },
  {
   "cell_type": "code",
   "execution_count": null,
   "id": "5d458dcb-d776-48b8-9e9c-88a39416cced",
   "metadata": {},
   "outputs": [],
   "source": []
  }
 ],
 "metadata": {
  "kernelspec": {
   "display_name": "Python 3 (ipykernel)",
   "language": "python",
   "name": "python3"
  },
  "language_info": {
   "codemirror_mode": {
    "name": "ipython",
    "version": 3
   },
   "file_extension": ".py",
   "mimetype": "text/x-python",
   "name": "python",
   "nbconvert_exporter": "python",
   "pygments_lexer": "ipython3",
   "version": "3.9.13"
  }
 },
 "nbformat": 4,
 "nbformat_minor": 5
}
